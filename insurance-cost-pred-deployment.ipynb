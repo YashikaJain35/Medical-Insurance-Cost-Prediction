{
 "cells": [
  {
   "cell_type": "code",
   "execution_count": 7,
   "metadata": {
    "execution": {
     "iopub.execute_input": "2022-12-03T16:39:51.971000Z",
     "iopub.status.busy": "2022-12-03T16:39:51.970506Z",
     "iopub.status.idle": "2022-12-03T16:39:51.978425Z",
     "shell.execute_reply": "2022-12-03T16:39:51.977052Z",
     "shell.execute_reply.started": "2022-12-03T16:39:51.970957Z"
    }
   },
   "outputs": [],
   "source": [
    "import pycaret\n",
    "from pycaret.regression import load_model, predict_model\n",
    "import streamlit as st\n",
    "import pandas as pd\n",
    "import numpy as np\n",
    "import pickle as pkl"
   ]
  },
  {
   "cell_type": "code",
   "execution_count": 8,
   "metadata": {
    "execution": {
     "iopub.execute_input": "2022-12-03T16:39:54.487628Z",
     "iopub.status.busy": "2022-12-03T16:39:54.487197Z",
     "iopub.status.idle": "2022-12-03T16:39:54.504928Z",
     "shell.execute_reply": "2022-12-03T16:39:54.503453Z",
     "shell.execute_reply.started": "2022-12-03T16:39:54.487588Z"
    }
   },
   "outputs": [],
   "source": [
    "model=pkl.load(open('final_model.pkl','rb'))"
   ]
  },
  {
   "cell_type": "code",
   "execution_count": 9,
   "metadata": {
    "execution": {
     "iopub.execute_input": "2022-12-03T16:41:23.103114Z",
     "iopub.status.busy": "2022-12-03T16:41:23.102594Z",
     "iopub.status.idle": "2022-12-03T16:41:23.243059Z",
     "shell.execute_reply": "2022-12-03T16:41:23.241534Z",
     "shell.execute_reply.started": "2022-12-03T16:41:23.103076Z"
    }
   },
   "outputs": [
    {
     "name": "stderr",
     "output_type": "stream",
     "text": [
      "2022-12-03 16:41:23.230 \n",
      "  \u001b[33m\u001b[1mWarning:\u001b[0m to view this Streamlit app on a browser, run it with the following\n",
      "  command:\n",
      "\n",
      "    streamlit run /opt/conda/lib/python3.7/site-packages/ipykernel_launcher.py [ARGUMENTS]\n"
     ]
    },
    {
     "data": {
      "text/plain": [
       "DeltaGenerator(_root_container=0, _provided_cursor=None, _parent=None, _block_type=None, _form_data=None)"
      ]
     },
     "execution_count": 9,
     "metadata": {},
     "output_type": "execute_result"
    }
   ],
   "source": [
    "st.title('---------- Medical Insurance Cost Prediction ---------')"
   ]
  },
  {
   "cell_type": "code",
   "execution_count": 11,
   "metadata": {
    "execution": {
     "iopub.execute_input": "2022-12-03T16:53:53.779678Z",
     "iopub.status.busy": "2022-12-03T16:53:53.779277Z",
     "iopub.status.idle": "2022-12-03T16:53:53.790709Z",
     "shell.execute_reply": "2022-12-03T16:53:53.789540Z",
     "shell.execute_reply.started": "2022-12-03T16:53:53.779648Z"
    }
   },
   "outputs": [],
   "source": [
    "age = st.number_input('Age', min_value=1, max_value=100, value=25)\n",
    "sex = st.selectbox('Sex', ['male', 'female'])\n",
    "bmi = st.number_input('BMI', min_value=10, max_value=50, value=10)\n",
    "children = st.selectbox('Children', [0,1,2,3,4,5,6,7,8,9,10])\n",
    "if st.checkbox('Smoker'):\n",
    "    smoker = 'yes'\n",
    "else:\n",
    "    smoker = 'no'\n",
    "region = st.selectbox('Region', ['southwest', 'northwest', 'northeast', 'southeast'])\n",
    "output=\"\"\n",
    "if st.button(\"Predict\"):\n",
    "    result = model.predict([[age,sex,bmi,children,smoker,region]])\n",
    "    st.success ('The output of the above is {}'.format(result))  "
   ]
  }
 ],
 "metadata": {
  "kernelspec": {
   "display_name": "Python 3 (ipykernel)",
   "language": "python",
   "name": "python3"
  },
  "language_info": {
   "codemirror_mode": {
    "name": "ipython",
    "version": 3
   },
   "file_extension": ".py",
   "mimetype": "text/x-python",
   "name": "python",
   "nbconvert_exporter": "python",
   "pygments_lexer": "ipython3",
   "version": "3.8.4"
  }
 },
 "nbformat": 4,
 "nbformat_minor": 4
}
